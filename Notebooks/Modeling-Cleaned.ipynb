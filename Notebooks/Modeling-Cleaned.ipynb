{
 "cells": [
  {
   "cell_type": "markdown",
   "id": "75deee63",
   "metadata": {},
   "source": [
    "# Modeling - Clean"
   ]
  },
  {
   "cell_type": "code",
   "execution_count": null,
   "id": "96ca1a9c",
   "metadata": {},
   "outputs": [],
   "source": [
    "import io\n",
    "import surprise\n",
    "import pandas as pd\n",
    "import seaborn as sns\n",
    "import numpy as np\n",
    "import matplotlib.pyplot as plt\n",
    "from scipy.stats import pearsonr\n",
    "from surprise import Reader, Dataset\n",
    "from surprise.prediction_algorithms import SVD, SVDpp, BaselineOnly, KNNWithZScore\n",
    "from surprise.prediction_algorithms import NMF, SlopeOne, NormalPredictor\n",
    "from surprise.model_selection import GridSearchCV, cross_validate, train_test_split"
   ]
  },
  {
   "cell_type": "code",
   "execution_count": null,
   "id": "c58c32b2",
   "metadata": {},
   "outputs": [],
   "source": [
    "full = pd.read_csv('../Data/filtered-cleaned')\n",
    "full = full.drop(columns = 'Unnamed: 0')\n",
    "min_cols = full[[ 'userId', 'movieId', 'rating']]\n",
    "min_cols = min_cols.sample(500000)\n",
    "smaller = min_cols.sample(50000)"
   ]
  },
  {
   "cell_type": "code",
   "execution_count": null,
   "id": "b2f5f69e",
   "metadata": {},
   "outputs": [],
   "source": [
    "reader = Reader()\n",
    "data = Dataset.load_from_df(min_cols, reader)\n",
    "datasmall = Dataset.load_from_df(smaller, reader)\n",
    "kdata = datasmall.build_full_trainset()\n",
    "trainset, testset = train_test_split(data, test_size = 0.10)"
   ]
  },
  {
   "cell_type": "code",
   "execution_count": null,
   "id": "47b9d1d2",
   "metadata": {},
   "outputs": [],
   "source": [
    "BaselineOnly_results = cross_validate(BaselineOnly(), datasmall, verbose = False)"
   ]
  },
  {
   "cell_type": "code",
   "execution_count": null,
   "id": "4a74e9ae",
   "metadata": {},
   "outputs": [],
   "source": [
    "nmf_results = cross_validate(NMF(), datasmall)"
   ]
  },
  {
   "cell_type": "code",
   "execution_count": null,
   "id": "24d9534b",
   "metadata": {},
   "outputs": [],
   "source": [
    "NormalPredictor_results = cross_validate(NormalPredictor(), datasmall)"
   ]
  },
  {
   "cell_type": "code",
   "execution_count": null,
   "id": "e1f49a7f",
   "metadata": {},
   "outputs": [],
   "source": [
    "SlopeOne_results = cross_validate(SlopeOne(), datasmall)"
   ]
  },
  {
   "cell_type": "code",
   "execution_count": null,
   "id": "5a7497fa",
   "metadata": {},
   "outputs": [],
   "source": [
    "SVDpp_results = cross_validate(SVDpp(), datasmall)"
   ]
  },
  {
   "cell_type": "code",
   "execution_count": null,
   "id": "0e095318",
   "metadata": {},
   "outputs": [],
   "source": [
    "SVD_results = cross_validate(SVD(), datasmall)"
   ]
  },
  {
   "cell_type": "code",
   "execution_count": null,
   "id": "2d38dc26",
   "metadata": {},
   "outputs": [],
   "source": [
    "results_list = [SVD_results, SVDpp_results, SlopeOne_results,\n",
    "                NormalPredictor_results, nmf_results, BaselineOnly_results]"
   ]
  },
  {
   "cell_type": "code",
   "execution_count": null,
   "id": "a8610a07",
   "metadata": {},
   "outputs": [],
   "source": [
    "def get_metrics(lst_dicts, key1, key2):\n",
    "    values = []\n",
    "    for dct in lst_dicts:\n",
    "        values.append([dct[key1], dct[key2]])\n",
    "    return pd.DataFrame(values, columns=[key1, key2])"
   ]
  },
  {
   "cell_type": "code",
   "execution_count": null,
   "id": "d2e29fb8",
   "metadata": {},
   "outputs": [],
   "source": [
    "metrics_df = get_metrics(results_list, 'test_mae', 'test_rmse')"
   ]
  },
  {
   "cell_type": "code",
   "execution_count": null,
   "id": "b506a12d",
   "metadata": {},
   "outputs": [],
   "source": [
    "result_names = pd.Series(['SVD_results', 'SVDpp_results', 'SlopeOne_results',\n",
    "                          'NormalPredictor_results', 'nmf_results', 'BaselineOnly_results'])"
   ]
  },
  {
   "cell_type": "code",
   "execution_count": null,
   "id": "fd3ddff0",
   "metadata": {},
   "outputs": [],
   "source": [
    "sum_df = metrics_df.merge(result_names.rename('models'), left_index = True, right_index = True)"
   ]
  },
  {
   "cell_type": "code",
   "execution_count": null,
   "id": "ed477b8e",
   "metadata": {},
   "outputs": [],
   "source": [
    "sum_df"
   ]
  },
  {
   "cell_type": "code",
   "execution_count": null,
   "id": "418c3535",
   "metadata": {},
   "outputs": [],
   "source": [
    "plt.figure(figsize= (12, 7))\n",
    "plt.plot(sum_df['test_mae'][0])\n",
    "plt.plot(sum_df['test_mae'][1])\n",
    "plt.plot(sum_df['test_mae'][2])\n",
    "plt.plot(sum_df['test_mae'][3])\n",
    "plt.plot(sum_df['test_mae'][4])\n",
    "plt.plot(sum_df['test_mae'][5])\n",
    "plt.title('Baseline CV MAE')\n",
    "plt.xlabel('CV Folds')\n",
    "plt.ylabel('M A E')\n",
    "plt.legend(['SVD', 'SVDpp', 'SlopeOne', 'NormalPredictor', 'NMF', 'BaselineOnly'], loc='best')\n",
    "plt.show()"
   ]
  },
  {
   "cell_type": "code",
   "execution_count": null,
   "id": "573930b1",
   "metadata": {},
   "outputs": [],
   "source": [
    "plt.figure(figsize= (12, 7))\n",
    "plt.plot(sum_df['test_rmse'][0])\n",
    "plt.plot(sum_df['test_rmse'][1])\n",
    "plt.plot(sum_df['test_rmse'][2])\n",
    "plt.plot(sum_df['test_rmse'][3])\n",
    "plt.plot(sum_df['test_rmse'][4])\n",
    "plt.plot(sum_df['test_rmse'][5])\n",
    "plt.title('Baseline CV RMSE')\n",
    "plt.xlabel('CV Folds')\n",
    "plt.ylabel('R M S E')\n",
    "\n",
    "plt.legend(['SVD', 'SVDpp', 'SlopeOne', 'NormalPredictor', 'NMF', 'BaselineOnly'], loc='best')\n",
    "plt.show()"
   ]
  },
  {
   "cell_type": "code",
   "execution_count": null,
   "id": "998b1e44",
   "metadata": {},
   "outputs": [],
   "source": [
    "svd_best = SVD(n_epochs = 50, n_factors = 75, reg_all = 0.2)\n",
    "svd_best.fit(trainset)"
   ]
  },
  {
   "cell_type": "code",
   "execution_count": null,
   "id": "d7d0a678",
   "metadata": {},
   "outputs": [],
   "source": [
    "test_mae = surprise.accuracy.mae(svd_best.test(testset))\n",
    "test_mae"
   ]
  },
  {
   "cell_type": "code",
   "execution_count": null,
   "id": "cdbba8ac",
   "metadata": {},
   "outputs": [],
   "source": [
    "predictions  = svd_best.test(testset)"
   ]
  },
  {
   "cell_type": "code",
   "execution_count": null,
   "id": "d3a80c44",
   "metadata": {},
   "outputs": [],
   "source": [
    "test_list = []\n",
    "for i in testset:\n",
    "  test_list.append(i[2])\n",
    "prediction_list = []\n",
    "for i in predictions:\n",
    "  prediction_list.append(i[3])\n",
    "correlation = pearsonr(prediction_list, test_list)\n",
    "correlation"
   ]
  }
 ],
 "metadata": {
  "kernelspec": {
   "display_name": "Python (learn-env)",
   "language": "python",
   "name": "learn-env"
  },
  "language_info": {
   "codemirror_mode": {
    "name": "ipython",
    "version": 3
   },
   "file_extension": ".py",
   "mimetype": "text/x-python",
   "name": "python",
   "nbconvert_exporter": "python",
   "pygments_lexer": "ipython3",
   "version": "3.8.13"
  }
 },
 "nbformat": 4,
 "nbformat_minor": 5
}
