{
 "cells": [
  {
   "cell_type": "markdown",
   "id": "75deee63",
   "metadata": {},
   "source": [
    "# Modeling - Clean"
   ]
  },
  {
   "cell_type": "code",
   "execution_count": 1,
   "id": "96ca1a9c",
   "metadata": {},
   "outputs": [],
   "source": [
    "import io\n",
    "import surprise\n",
    "import pandas as pd\n",
    "import seaborn as sns\n",
    "import numpy as np\n",
    "import pickle\n",
    "import matplotlib.pyplot as plt\n",
    "from scipy.stats import pearsonr\n",
    "from surprise import Reader, Dataset\n",
    "from surprise.prediction_algorithms import SVD, SVDpp, BaselineOnly, KNNWithZScore\n",
    "from surprise.prediction_algorithms import NMF, SlopeOne, NormalPredictor\n",
    "from surprise.model_selection import GridSearchCV, cross_validate, train_test_split"
   ]
  },
  {
   "cell_type": "code",
   "execution_count": 12,
   "id": "c58c32b2",
   "metadata": {},
   "outputs": [],
   "source": [
    "full = pd.read_csv('../Data/filtered-cleaned-git')\n",
    "full = full.drop(columns = 'Unnamed: 0')"
   ]
  },
  {
   "cell_type": "code",
   "execution_count": 13,
   "id": "069a80f6",
   "metadata": {},
   "outputs": [
    {
     "data": {
      "text/html": [
       "<div>\n",
       "<style scoped>\n",
       "    .dataframe tbody tr th:only-of-type {\n",
       "        vertical-align: middle;\n",
       "    }\n",
       "\n",
       "    .dataframe tbody tr th {\n",
       "        vertical-align: top;\n",
       "    }\n",
       "\n",
       "    .dataframe thead th {\n",
       "        text-align: right;\n",
       "    }\n",
       "</style>\n",
       "<table border=\"1\" class=\"dataframe\">\n",
       "  <thead>\n",
       "    <tr style=\"text-align: right;\">\n",
       "      <th></th>\n",
       "      <th>movieId</th>\n",
       "      <th>title</th>\n",
       "      <th>userId</th>\n",
       "      <th>rating</th>\n",
       "    </tr>\n",
       "  </thead>\n",
       "  <tbody>\n",
       "    <tr>\n",
       "      <th>0</th>\n",
       "      <td>100108</td>\n",
       "      <td>Parker (2013)</td>\n",
       "      <td>87511</td>\n",
       "      <td>2.0</td>\n",
       "    </tr>\n",
       "    <tr>\n",
       "      <th>1</th>\n",
       "      <td>3535</td>\n",
       "      <td>American Psycho (2000)</td>\n",
       "      <td>27999</td>\n",
       "      <td>4.0</td>\n",
       "    </tr>\n",
       "    <tr>\n",
       "      <th>2</th>\n",
       "      <td>60072</td>\n",
       "      <td>Wanted (2008)</td>\n",
       "      <td>50916</td>\n",
       "      <td>3.0</td>\n",
       "    </tr>\n",
       "    <tr>\n",
       "      <th>3</th>\n",
       "      <td>60072</td>\n",
       "      <td>Wanted (2008)</td>\n",
       "      <td>38845</td>\n",
       "      <td>2.0</td>\n",
       "    </tr>\n",
       "    <tr>\n",
       "      <th>4</th>\n",
       "      <td>143355</td>\n",
       "      <td>Wonder Woman (2017)</td>\n",
       "      <td>57834</td>\n",
       "      <td>3.0</td>\n",
       "    </tr>\n",
       "    <tr>\n",
       "      <th>...</th>\n",
       "      <td>...</td>\n",
       "      <td>...</td>\n",
       "      <td>...</td>\n",
       "      <td>...</td>\n",
       "    </tr>\n",
       "    <tr>\n",
       "      <th>4999995</th>\n",
       "      <td>4993</td>\n",
       "      <td>Lord of the Rings: The Fellowship of the Ring,...</td>\n",
       "      <td>43554</td>\n",
       "      <td>4.0</td>\n",
       "    </tr>\n",
       "    <tr>\n",
       "      <th>4999996</th>\n",
       "      <td>47491</td>\n",
       "      <td>Adam's Apples (Adams æbler) (2005)</td>\n",
       "      <td>58800</td>\n",
       "      <td>4.0</td>\n",
       "    </tr>\n",
       "    <tr>\n",
       "      <th>4999997</th>\n",
       "      <td>62434</td>\n",
       "      <td>Zack and Miri Make a Porno (2008)</td>\n",
       "      <td>153447</td>\n",
       "      <td>4.0</td>\n",
       "    </tr>\n",
       "    <tr>\n",
       "      <th>4999998</th>\n",
       "      <td>48412</td>\n",
       "      <td>Guardian, The (2006)</td>\n",
       "      <td>8818</td>\n",
       "      <td>5.0</td>\n",
       "    </tr>\n",
       "    <tr>\n",
       "      <th>4999999</th>\n",
       "      <td>69526</td>\n",
       "      <td>Transformers: Revenge of the Fallen (2009)</td>\n",
       "      <td>86654</td>\n",
       "      <td>2.0</td>\n",
       "    </tr>\n",
       "  </tbody>\n",
       "</table>\n",
       "<p>5000000 rows × 4 columns</p>\n",
       "</div>"
      ],
      "text/plain": [
       "         movieId                                              title  userId  \\\n",
       "0         100108                                      Parker (2013)   87511   \n",
       "1           3535                             American Psycho (2000)   27999   \n",
       "2          60072                                      Wanted (2008)   50916   \n",
       "3          60072                                      Wanted (2008)   38845   \n",
       "4         143355                                Wonder Woman (2017)   57834   \n",
       "...          ...                                                ...     ...   \n",
       "4999995     4993  Lord of the Rings: The Fellowship of the Ring,...   43554   \n",
       "4999996    47491                 Adam's Apples (Adams æbler) (2005)   58800   \n",
       "4999997    62434                  Zack and Miri Make a Porno (2008)  153447   \n",
       "4999998    48412                               Guardian, The (2006)    8818   \n",
       "4999999    69526         Transformers: Revenge of the Fallen (2009)   86654   \n",
       "\n",
       "         rating  \n",
       "0           2.0  \n",
       "1           4.0  \n",
       "2           3.0  \n",
       "3           2.0  \n",
       "4           3.0  \n",
       "...         ...  \n",
       "4999995     4.0  \n",
       "4999996     4.0  \n",
       "4999997     4.0  \n",
       "4999998     5.0  \n",
       "4999999     2.0  \n",
       "\n",
       "[5000000 rows x 4 columns]"
      ]
     },
     "execution_count": 13,
     "metadata": {},
     "output_type": "execute_result"
    }
   ],
   "source": [
    "full"
   ]
  },
  {
   "cell_type": "code",
   "execution_count": 14,
   "id": "7c02a6fa",
   "metadata": {},
   "outputs": [],
   "source": [
    "min_cols = full[[ 'userId', 'movieId', 'rating']]\n",
    "\n",
    "smaller = min_cols.sample(1000000)\n",
    "\n",
    "# Below two are the original \n",
    "# min_cols = min_cols.sample(5000000)\n",
    "# smaller = min_cols.sample(50000)"
   ]
  },
  {
   "cell_type": "code",
   "execution_count": 15,
   "id": "b2f5f69e",
   "metadata": {},
   "outputs": [],
   "source": [
    "reader = Reader()\n",
    "data = Dataset.load_from_df(min_cols, reader)\n",
    "datasmall = Dataset.load_from_df(smaller, reader)\n",
    "kdata = datasmall.build_full_trainset()\n",
    "trainset, testset = train_test_split(data, test_size = 0.10)"
   ]
  },
  {
   "cell_type": "code",
   "execution_count": 27,
   "id": "47b9d1d2",
   "metadata": {},
   "outputs": [
    {
     "name": "stdout",
     "output_type": "stream",
     "text": [
      "Estimating biases using als...\n",
      "Estimating biases using als...\n",
      "Estimating biases using als...\n",
      "Estimating biases using als...\n",
      "Estimating biases using als...\n"
     ]
    }
   ],
   "source": [
    "BaselineOnly_results = cross_validate(BaselineOnly(), datasmall, verbose = False)"
   ]
  },
  {
   "cell_type": "code",
   "execution_count": 28,
   "id": "4a74e9ae",
   "metadata": {},
   "outputs": [],
   "source": [
    "nmf_results = cross_validate(NMF(), datasmall)"
   ]
  },
  {
   "cell_type": "code",
   "execution_count": 29,
   "id": "24d9534b",
   "metadata": {},
   "outputs": [],
   "source": [
    "NormalPredictor_results = cross_validate(NormalPredictor(), datasmall)"
   ]
  },
  {
   "cell_type": "code",
   "execution_count": 30,
   "id": "e1f49a7f",
   "metadata": {},
   "outputs": [],
   "source": [
    "SlopeOne_results = cross_validate(SlopeOne(), datasmall)"
   ]
  },
  {
   "cell_type": "code",
   "execution_count": 31,
   "id": "5a7497fa",
   "metadata": {},
   "outputs": [],
   "source": [
    "SVDpp_results = cross_validate(SVDpp(), datasmall)"
   ]
  },
  {
   "cell_type": "code",
   "execution_count": 32,
   "id": "0e095318",
   "metadata": {},
   "outputs": [],
   "source": [
    "SVD_results = cross_validate(SVD(), datasmall)"
   ]
  },
  {
   "cell_type": "code",
   "execution_count": 33,
   "id": "2d38dc26",
   "metadata": {},
   "outputs": [],
   "source": [
    "results_list = [SVD_results, SVDpp_results,\n",
    "                SlopeOne_results,NormalPredictor_results,\n",
    "                nmf_results, BaselineOnly_results]"
   ]
  },
  {
   "cell_type": "code",
   "execution_count": 34,
   "id": "a8610a07",
   "metadata": {},
   "outputs": [],
   "source": [
    "def get_metrics(lst_dicts, key1, key2):\n",
    "    values = []\n",
    "    for dct in lst_dicts:\n",
    "        values.append([dct[key1], dct[key2]])\n",
    "    return pd.DataFrame(values, columns=[key1, key2])"
   ]
  },
  {
   "cell_type": "code",
   "execution_count": 35,
   "id": "d2e29fb8",
   "metadata": {},
   "outputs": [],
   "source": [
    "metrics_df = get_metrics(results_list, 'test_mae', 'test_rmse')"
   ]
  },
  {
   "cell_type": "code",
   "execution_count": 36,
   "id": "b506a12d",
   "metadata": {},
   "outputs": [],
   "source": [
    "result_names = pd.Series(['SVD_results', 'SVDpp_results', 'SlopeOne_results',\n",
    "                          'NormalPredictor_results', 'nmf_results', 'BaselineOnly_results'])"
   ]
  },
  {
   "cell_type": "code",
   "execution_count": 37,
   "id": "fd3ddff0",
   "metadata": {},
   "outputs": [],
   "source": [
    "sum_df = metrics_df.merge(result_names.rename('models'), left_index = True, right_index = True)"
   ]
  },
  {
   "cell_type": "code",
   "execution_count": 38,
   "id": "ed477b8e",
   "metadata": {},
   "outputs": [
    {
     "data": {
      "text/html": [
       "<div>\n",
       "<style scoped>\n",
       "    .dataframe tbody tr th:only-of-type {\n",
       "        vertical-align: middle;\n",
       "    }\n",
       "\n",
       "    .dataframe tbody tr th {\n",
       "        vertical-align: top;\n",
       "    }\n",
       "\n",
       "    .dataframe thead th {\n",
       "        text-align: right;\n",
       "    }\n",
       "</style>\n",
       "<table border=\"1\" class=\"dataframe\">\n",
       "  <thead>\n",
       "    <tr style=\"text-align: right;\">\n",
       "      <th></th>\n",
       "      <th>test_mae</th>\n",
       "      <th>test_rmse</th>\n",
       "      <th>models</th>\n",
       "    </tr>\n",
       "  </thead>\n",
       "  <tbody>\n",
       "    <tr>\n",
       "      <th>0</th>\n",
       "      <td>[0.7465921905817695, 0.7528824961097415, 0.745...</td>\n",
       "      <td>[0.9730164730206795, 0.9880286754214536, 0.969...</td>\n",
       "      <td>SVD_results</td>\n",
       "    </tr>\n",
       "    <tr>\n",
       "      <th>1</th>\n",
       "      <td>[0.7373909392332182, 0.7554475795556157, 0.752...</td>\n",
       "      <td>[0.9543781583323266, 0.9795804626651162, 0.971...</td>\n",
       "      <td>SVDpp_results</td>\n",
       "    </tr>\n",
       "    <tr>\n",
       "      <th>2</th>\n",
       "      <td>[0.8524566826792652, 0.8539070664663115, 0.861...</td>\n",
       "      <td>[1.120664198008467, 1.1176448809715185, 1.1296...</td>\n",
       "      <td>SlopeOne_results</td>\n",
       "    </tr>\n",
       "    <tr>\n",
       "      <th>3</th>\n",
       "      <td>[1.1508060939420504, 1.1394259986731656, 1.149...</td>\n",
       "      <td>[1.4444874440084863, 1.440230547956824, 1.4410...</td>\n",
       "      <td>NormalPredictor_results</td>\n",
       "    </tr>\n",
       "    <tr>\n",
       "      <th>4</th>\n",
       "      <td>[0.891594275304658, 0.8831818048926426, 0.8797...</td>\n",
       "      <td>[1.1337025400831005, 1.1270785282990512, 1.122...</td>\n",
       "      <td>nmf_results</td>\n",
       "    </tr>\n",
       "    <tr>\n",
       "      <th>5</th>\n",
       "      <td>[0.738858366993163, 0.7538226778850153, 0.7562...</td>\n",
       "      <td>[0.9596453798290848, 0.9841301901240056, 0.986...</td>\n",
       "      <td>BaselineOnly_results</td>\n",
       "    </tr>\n",
       "  </tbody>\n",
       "</table>\n",
       "</div>"
      ],
      "text/plain": [
       "                                            test_mae  \\\n",
       "0  [0.7465921905817695, 0.7528824961097415, 0.745...   \n",
       "1  [0.7373909392332182, 0.7554475795556157, 0.752...   \n",
       "2  [0.8524566826792652, 0.8539070664663115, 0.861...   \n",
       "3  [1.1508060939420504, 1.1394259986731656, 1.149...   \n",
       "4  [0.891594275304658, 0.8831818048926426, 0.8797...   \n",
       "5  [0.738858366993163, 0.7538226778850153, 0.7562...   \n",
       "\n",
       "                                           test_rmse                   models  \n",
       "0  [0.9730164730206795, 0.9880286754214536, 0.969...              SVD_results  \n",
       "1  [0.9543781583323266, 0.9795804626651162, 0.971...            SVDpp_results  \n",
       "2  [1.120664198008467, 1.1176448809715185, 1.1296...         SlopeOne_results  \n",
       "3  [1.4444874440084863, 1.440230547956824, 1.4410...  NormalPredictor_results  \n",
       "4  [1.1337025400831005, 1.1270785282990512, 1.122...              nmf_results  \n",
       "5  [0.9596453798290848, 0.9841301901240056, 0.986...     BaselineOnly_results  "
      ]
     },
     "execution_count": 38,
     "metadata": {},
     "output_type": "execute_result"
    }
   ],
   "source": [
    "sum_df"
   ]
  },
  {
   "cell_type": "code",
   "execution_count": 39,
   "id": "418c3535",
   "metadata": {},
   "outputs": [
    {
     "data": {
      "image/png": "[encoded data removed]",
      "text/plain": [
       "<Figure size 864x504 with 1 Axes>"
      ]
     },
     "metadata": {
      "needs_background": "light"
     },
     "output_type": "display_data"
    }
   ],
   "source": [
    "plt.figure(figsize= (12, 7))\n",
    "plt.plot(sum_df['test_mae'][0])\n",
    "plt.plot(sum_df['test_mae'][1])\n",
    "plt.plot(sum_df['test_mae'][2])\n",
    "plt.plot(sum_df['test_mae'][3])\n",
    "plt.plot(sum_df['test_mae'][4])\n",
    "plt.plot(sum_df['test_mae'][5])\n",
    "plt.title('Baseline CV MAE')\n",
    "plt.xlabel('CV Folds')\n",
    "plt.ylabel('M A E')\n",
    "plt.legend(['SVD', 'SVDpp', 'SlopeOne', 'NormalPredictor', 'NMF', 'BaselineOnly'], loc='best')\n",
    "plt.show()"
   ]
  },
  {
   "cell_type": "code",
   "execution_count": 40,
   "id": "573930b1",
   "metadata": {},
   "outputs": [
    {
     "data": {
      "image/png": "[encoded data removed]",
      "text/plain": [
       "<Figure size 864x504 with 1 Axes>"
      ]
     },
     "metadata": {
      "needs_background": "light"
     },
     "output_type": "display_data"
    }
   ],
   "source": [
    "plt.figure(figsize= (12, 7))\n",
    "plt.plot(sum_df['test_rmse'][0])\n",
    "plt.plot(sum_df['test_rmse'][1])\n",
    "plt.plot(sum_df['test_rmse'][2])\n",
    "plt.plot(sum_df['test_rmse'][3])\n",
    "plt.plot(sum_df['test_rmse'][4])\n",
    "plt.plot(sum_df['test_rmse'][5])\n",
    "plt.title('Baseline CV RMSE')\n",
    "plt.xlabel('CV Folds')\n",
    "plt.ylabel('R M S E')\n",
    "\n",
    "plt.legend(['SVD', 'SVDpp', 'SlopeOne', 'NormalPredictor', 'NMF', 'BaselineOnly'], loc='best')\n",
    "plt.show()"
   ]
  },
  {
   "cell_type": "code",
   "execution_count": 16,
   "id": "998b1e44",
   "metadata": {},
   "outputs": [
    {
     "data": {
      "text/plain": [
       "<surprise.prediction_algorithms.matrix_factorization.SVD at 0x16e4c3700>"
      ]
     },
     "execution_count": 16,
     "metadata": {},
     "output_type": "execute_result"
    }
   ],
   "source": [
    "svd_best = SVD(n_epochs = 50, n_factors = 75, reg_all = 0.2)\n",
    "svd_best.fit(trainset)"
   ]
  },
  {
   "cell_type": "code",
   "execution_count": 17,
   "id": "d7d0a678",
   "metadata": {},
   "outputs": [
    {
     "name": "stdout",
     "output_type": "stream",
     "text": [
      "MAE:  0.6443\n"
     ]
    },
    {
     "data": {
      "text/plain": [
       "0.6443098117452206"
      ]
     },
     "execution_count": 17,
     "metadata": {},
     "output_type": "execute_result"
    }
   ],
   "source": [
    "test_mae = surprise.accuracy.mae(svd_best.test(testset))\n",
    "test_mae"
   ]
  },
  {
   "cell_type": "code",
   "execution_count": 18,
   "id": "cdbba8ac",
   "metadata": {},
   "outputs": [],
   "source": [
    "predictions  = svd_best.test(testset)"
   ]
  },
  {
   "cell_type": "code",
   "execution_count": 19,
   "id": "d3a80c44",
   "metadata": {},
   "outputs": [
    {
     "data": {
      "text/plain": [
       "(0.587679492516447, 0.0)"
      ]
     },
     "execution_count": 19,
     "metadata": {},
     "output_type": "execute_result"
    }
   ],
   "source": [
    "test_list = []\n",
    "for i in testset:\n",
    "  test_list.append(i[2])\n",
    "prediction_list = []\n",
    "for i in predictions:\n",
    "  prediction_list.append(i[3])\n",
    "correlation = pearsonr(prediction_list, test_list)\n",
    "correlation"
   ]
  },
  {
   "cell_type": "code",
   "execution_count": 55,
   "id": "273bc119",
   "metadata": {},
   "outputs": [],
   "source": [
    "model_filename = 'Large-rec-model-8M'\n",
    "pickle.dump(svd_best, open(model_filename, 'wb'))"
   ]
  },
  {
   "cell_type": "code",
   "execution_count": 20,
   "id": "8408da6b",
   "metadata": {},
   "outputs": [],
   "source": [
    "import lzma\n",
    "with lzma.open(\"rec_lmza.xz\", \"wb\") as f:\n",
    "    pickle.dump(svd_best, f)"
   ]
  },
  {
   "cell_type": "code",
   "execution_count": 59,
   "id": "ff96c378",
   "metadata": {},
   "outputs": [],
   "source": [
    "import brotli \n",
    "\n",
    "with open('Large-rec-model-8M', 'rb') as f:\n",
    "    pdata = f.read()\n",
    "    with open('brotli_rec_model.bt', 'wb') as b:\n",
    "        b.write(brotli.compress(pdata))"
   ]
  },
  {
   "cell_type": "code",
   "execution_count": 56,
   "id": "2f763687",
   "metadata": {},
   "outputs": [],
   "source": [
    "# MAE on Test 0.64\n",
    "# Pearson Correlation 0.59"
   ]
  },
  {
   "cell_type": "code",
   "execution_count": null,
   "id": "0663855f",
   "metadata": {},
   "outputs": [],
   "source": []
  }
 ],
 "metadata": {
  "kernelspec": {
   "display_name": "broke-the-other",
   "language": "python",
   "name": "broke-the-other"
  },
  "language_info": {
   "codemirror_mode": {
    "name": "ipython",
    "version": 3
   },
   "file_extension": ".py",
   "mimetype": "text/x-python",
   "name": "python",
   "nbconvert_exporter": "python",
   "pygments_lexer": "ipython3",
   "version": "3.10.4"
  }
 },
 "nbformat": 4,
 "nbformat_minor": 5
}
