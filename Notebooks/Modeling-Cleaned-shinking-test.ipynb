{
 "cells": [
  {
   "cell_type": "markdown",
   "id": "75deee63",
   "metadata": {},
   "source": [
    "# Modeling - Clean"
   ]
  },
  {
   "cell_type": "code",
   "execution_count": 1,
   "id": "96ca1a9c",
   "metadata": {},
   "outputs": [],
   "source": [
    "import io\n",
    "import surprise\n",
    "import pandas as pd\n",
    "import seaborn as sns\n",
    "import numpy as np\n",
    "import pickle\n",
    "import matplotlib.pyplot as plt\n",
    "from scipy.stats import pearsonr\n",
    "from surprise import Reader, Dataset\n",
    "from surprise.prediction_algorithms import SVD, SVDpp, BaselineOnly, KNNWithZScore\n",
    "from surprise.prediction_algorithms import NMF, SlopeOne, NormalPredictor\n",
    "from surprise.model_selection import GridSearchCV, cross_validate, train_test_split"
   ]
  },
  {
   "cell_type": "code",
   "execution_count": 2,
   "id": "c58c32b2",
   "metadata": {},
   "outputs": [],
   "source": [
    "full = pd.read_csv('../Data/filtered-cleaned-git.gz', compression = 'gzip')\n",
    "full = full.drop(columns = 'Unnamed: 0')"
   ]
  },
  {
   "cell_type": "code",
   "execution_count": 3,
   "id": "069a80f6",
   "metadata": {},
   "outputs": [
    {
     "data": {
      "text/html": [
       "<div>\n",
       "<style scoped>\n",
       "    .dataframe tbody tr th:only-of-type {\n",
       "        vertical-align: middle;\n",
       "    }\n",
       "\n",
       "    .dataframe tbody tr th {\n",
       "        vertical-align: top;\n",
       "    }\n",
       "\n",
       "    .dataframe thead th {\n",
       "        text-align: right;\n",
       "    }\n",
       "</style>\n",
       "<table border=\"1\" class=\"dataframe\">\n",
       "  <thead>\n",
       "    <tr style=\"text-align: right;\">\n",
       "      <th></th>\n",
       "      <th>movieId</th>\n",
       "      <th>title</th>\n",
       "      <th>userId</th>\n",
       "      <th>rating</th>\n",
       "    </tr>\n",
       "  </thead>\n",
       "  <tbody>\n",
       "    <tr>\n",
       "      <th>0</th>\n",
       "      <td>5952</td>\n",
       "      <td>Lord of the Rings: The Two Towers, The (2002)</td>\n",
       "      <td>127194</td>\n",
       "      <td>4.5</td>\n",
       "    </tr>\n",
       "    <tr>\n",
       "      <th>1</th>\n",
       "      <td>33679</td>\n",
       "      <td>Mr. &amp; Mrs. Smith (2005)</td>\n",
       "      <td>129852</td>\n",
       "      <td>4.5</td>\n",
       "    </tr>\n",
       "    <tr>\n",
       "      <th>2</th>\n",
       "      <td>42013</td>\n",
       "      <td>Ringer, The (2005)</td>\n",
       "      <td>42221</td>\n",
       "      <td>4.5</td>\n",
       "    </tr>\n",
       "    <tr>\n",
       "      <th>3</th>\n",
       "      <td>177593</td>\n",
       "      <td>Three Billboards Outside Ebbing, Missouri (2017)</td>\n",
       "      <td>150882</td>\n",
       "      <td>4.0</td>\n",
       "    </tr>\n",
       "    <tr>\n",
       "      <th>4</th>\n",
       "      <td>3408</td>\n",
       "      <td>Erin Brockovich (2000)</td>\n",
       "      <td>61104</td>\n",
       "      <td>3.5</td>\n",
       "    </tr>\n",
       "    <tr>\n",
       "      <th>...</th>\n",
       "      <td>...</td>\n",
       "      <td>...</td>\n",
       "      <td>...</td>\n",
       "      <td>...</td>\n",
       "    </tr>\n",
       "    <tr>\n",
       "      <th>4999995</th>\n",
       "      <td>50153</td>\n",
       "      <td>Code Name: The Cleaner (2007)</td>\n",
       "      <td>43217</td>\n",
       "      <td>2.5</td>\n",
       "    </tr>\n",
       "    <tr>\n",
       "      <th>4999996</th>\n",
       "      <td>45728</td>\n",
       "      <td>Clerks II (2006)</td>\n",
       "      <td>154497</td>\n",
       "      <td>5.0</td>\n",
       "    </tr>\n",
       "    <tr>\n",
       "      <th>4999997</th>\n",
       "      <td>82095</td>\n",
       "      <td>Skyline (2010)</td>\n",
       "      <td>18021</td>\n",
       "      <td>0.5</td>\n",
       "    </tr>\n",
       "    <tr>\n",
       "      <th>4999998</th>\n",
       "      <td>68554</td>\n",
       "      <td>Angels &amp; Demons (2009)</td>\n",
       "      <td>116701</td>\n",
       "      <td>1.0</td>\n",
       "    </tr>\n",
       "    <tr>\n",
       "      <th>4999999</th>\n",
       "      <td>41566</td>\n",
       "      <td>Chronicles of Narnia: The Lion, the Witch and ...</td>\n",
       "      <td>111311</td>\n",
       "      <td>2.0</td>\n",
       "    </tr>\n",
       "  </tbody>\n",
       "</table>\n",
       "<p>5000000 rows × 4 columns</p>\n",
       "</div>"
      ],
      "text/plain": [
       "         movieId                                              title  userId  \\\n",
       "0           5952      Lord of the Rings: The Two Towers, The (2002)  127194   \n",
       "1          33679                            Mr. & Mrs. Smith (2005)  129852   \n",
       "2          42013                                 Ringer, The (2005)   42221   \n",
       "3         177593   Three Billboards Outside Ebbing, Missouri (2017)  150882   \n",
       "4           3408                             Erin Brockovich (2000)   61104   \n",
       "...          ...                                                ...     ...   \n",
       "4999995    50153                      Code Name: The Cleaner (2007)   43217   \n",
       "4999996    45728                                   Clerks II (2006)  154497   \n",
       "4999997    82095                                     Skyline (2010)   18021   \n",
       "4999998    68554                             Angels & Demons (2009)  116701   \n",
       "4999999    41566  Chronicles of Narnia: The Lion, the Witch and ...  111311   \n",
       "\n",
       "         rating  \n",
       "0           4.5  \n",
       "1           4.5  \n",
       "2           4.5  \n",
       "3           4.0  \n",
       "4           3.5  \n",
       "...         ...  \n",
       "4999995     2.5  \n",
       "4999996     5.0  \n",
       "4999997     0.5  \n",
       "4999998     1.0  \n",
       "4999999     2.0  \n",
       "\n",
       "[5000000 rows x 4 columns]"
      ]
     },
     "execution_count": 3,
     "metadata": {},
     "output_type": "execute_result"
    }
   ],
   "source": [
    "full"
   ]
  },
  {
   "cell_type": "code",
   "execution_count": 4,
   "id": "7c02a6fa",
   "metadata": {},
   "outputs": [],
   "source": [
    "min_cols = full[[ 'userId', 'movieId', 'rating']]\n",
    "smaller = min_cols.sample(1000000)\n",
    "\n",
    "# Below two are the original \n",
    "# min_cols = min_cols.sample(5000000)\n",
    "# smaller = min_cols.sample(50000)"
   ]
  },
  {
   "cell_type": "code",
   "execution_count": 5,
   "id": "b2f5f69e",
   "metadata": {},
   "outputs": [],
   "source": [
    "reader = Reader()\n",
    "data = Dataset.load_from_df(min_cols, reader)\n",
    "datasmall = Dataset.load_from_df(smaller, reader)\n",
    "kdata = datasmall.build_full_trainset()\n",
    "trainset, testset = train_test_split(data, test_size = 0.10)"
   ]
  },
  {
   "cell_type": "code",
   "execution_count": 6,
   "id": "47b9d1d2",
   "metadata": {},
   "outputs": [
    {
     "name": "stdout",
     "output_type": "stream",
     "text": [
      "Estimating biases using als...\n",
      "Estimating biases using als...\n",
      "Estimating biases using als...\n",
      "Estimating biases using als...\n",
      "Estimating biases using als...\n"
     ]
    }
   ],
   "source": [
    "BaselineOnly_results = cross_validate(BaselineOnly(), datasmall, verbose = False)"
   ]
  },
  {
   "cell_type": "code",
   "execution_count": 7,
   "id": "4a74e9ae",
   "metadata": {},
   "outputs": [],
   "source": [
    "nmf_results = cross_validate(NMF(), datasmall)"
   ]
  },
  {
   "cell_type": "code",
   "execution_count": 8,
   "id": "24d9534b",
   "metadata": {},
   "outputs": [],
   "source": [
    "NormalPredictor_results = cross_validate(NormalPredictor(), datasmall)"
   ]
  },
  {
   "cell_type": "code",
   "execution_count": 9,
   "id": "e1f49a7f",
   "metadata": {},
   "outputs": [],
   "source": [
    "SlopeOne_results = cross_validate(SlopeOne(), datasmall)"
   ]
  },
  {
   "cell_type": "code",
   "execution_count": 10,
   "id": "5a7497fa",
   "metadata": {},
   "outputs": [],
   "source": [
    "SVDpp_results = cross_validate(SVDpp(), datasmall)"
   ]
  },
  {
   "cell_type": "code",
   "execution_count": 11,
   "id": "0e095318",
   "metadata": {},
   "outputs": [],
   "source": [
    "SVD_results = cross_validate(SVD(), datasmall)"
   ]
  },
  {
   "cell_type": "code",
   "execution_count": 12,
   "id": "2d38dc26",
   "metadata": {},
   "outputs": [],
   "source": [
    "results_list = [SVD_results, SVDpp_results,\n",
    "                SlopeOne_results,NormalPredictor_results,\n",
    "                nmf_results, BaselineOnly_results]"
   ]
  },
  {
   "cell_type": "code",
   "execution_count": 13,
   "id": "a8610a07",
   "metadata": {},
   "outputs": [],
   "source": [
    "def get_metrics(lst_dicts, key1, key2):\n",
    "    values = []\n",
    "    for dct in lst_dicts:\n",
    "        values.append([dct[key1], dct[key2]])\n",
    "    return pd.DataFrame(values, columns=[key1, key2])"
   ]
  },
  {
   "cell_type": "code",
   "execution_count": 14,
   "id": "d2e29fb8",
   "metadata": {},
   "outputs": [],
   "source": [
    "metrics_df = get_metrics(results_list, 'test_mae', 'test_rmse')"
   ]
  },
  {
   "cell_type": "code",
   "execution_count": 15,
   "id": "b506a12d",
   "metadata": {},
   "outputs": [],
   "source": [
    "result_names = pd.Series(['SVD_results', 'SVDpp_results', 'SlopeOne_results',\n",
    "                          'NormalPredictor_results', 'nmf_results', 'BaselineOnly_results'])"
   ]
  },
  {
   "cell_type": "code",
   "execution_count": 16,
   "id": "fd3ddff0",
   "metadata": {},
   "outputs": [],
   "source": [
    "sum_df = metrics_df.merge(result_names.rename('models'), left_index = True, right_index = True)"
   ]
  },
  {
   "cell_type": "code",
   "execution_count": 17,
   "id": "ed477b8e",
   "metadata": {},
   "outputs": [
    {
     "data": {
      "text/html": [
       "<div>\n",
       "<style scoped>\n",
       "    .dataframe tbody tr th:only-of-type {\n",
       "        vertical-align: middle;\n",
       "    }\n",
       "\n",
       "    .dataframe tbody tr th {\n",
       "        vertical-align: top;\n",
       "    }\n",
       "\n",
       "    .dataframe thead th {\n",
       "        text-align: right;\n",
       "    }\n",
       "</style>\n",
       "<table border=\"1\" class=\"dataframe\">\n",
       "  <thead>\n",
       "    <tr style=\"text-align: right;\">\n",
       "      <th></th>\n",
       "      <th>test_mae</th>\n",
       "      <th>test_rmse</th>\n",
       "      <th>models</th>\n",
       "    </tr>\n",
       "  </thead>\n",
       "  <tbody>\n",
       "    <tr>\n",
       "      <th>0</th>\n",
       "      <td>[0.6767827865752398, 0.6751812534038427, 0.675...</td>\n",
       "      <td>[0.8928265864057374, 0.8917669354219407, 0.891...</td>\n",
       "      <td>SVD_results</td>\n",
       "    </tr>\n",
       "    <tr>\n",
       "      <th>1</th>\n",
       "      <td>[0.6609582566499534, 0.6599612991840637, 0.659...</td>\n",
       "      <td>[0.8742502506992708, 0.8727742477261566, 0.872...</td>\n",
       "      <td>SVDpp_results</td>\n",
       "    </tr>\n",
       "    <tr>\n",
       "      <th>2</th>\n",
       "      <td>[0.6876521133421319, 0.6871588590671069, 0.688...</td>\n",
       "      <td>[0.918134048565931, 0.9164667718792527, 0.9179...</td>\n",
       "      <td>SlopeOne_results</td>\n",
       "    </tr>\n",
       "    <tr>\n",
       "      <th>3</th>\n",
       "      <td>[1.1428522268190882, 1.1413443532882837, 1.142...</td>\n",
       "      <td>[1.436259294718045, 1.4329194596112123, 1.4341...</td>\n",
       "      <td>NormalPredictor_results</td>\n",
       "    </tr>\n",
       "    <tr>\n",
       "      <th>4</th>\n",
       "      <td>[0.7227806526593559, 0.724816222589344, 0.7192...</td>\n",
       "      <td>[0.9533007999188796, 0.9570780889496165, 0.950...</td>\n",
       "      <td>nmf_results</td>\n",
       "    </tr>\n",
       "    <tr>\n",
       "      <th>5</th>\n",
       "      <td>[0.6733781038657268, 0.6716411479302016, 0.672...</td>\n",
       "      <td>[0.887415879351807, 0.8853590716499062, 0.8844...</td>\n",
       "      <td>BaselineOnly_results</td>\n",
       "    </tr>\n",
       "  </tbody>\n",
       "</table>\n",
       "</div>"
      ],
      "text/plain": [
       "                                            test_mae  \\\n",
       "0  [0.6767827865752398, 0.6751812534038427, 0.675...   \n",
       "1  [0.6609582566499534, 0.6599612991840637, 0.659...   \n",
       "2  [0.6876521133421319, 0.6871588590671069, 0.688...   \n",
       "3  [1.1428522268190882, 1.1413443532882837, 1.142...   \n",
       "4  [0.7227806526593559, 0.724816222589344, 0.7192...   \n",
       "5  [0.6733781038657268, 0.6716411479302016, 0.672...   \n",
       "\n",
       "                                           test_rmse                   models  \n",
       "0  [0.8928265864057374, 0.8917669354219407, 0.891...              SVD_results  \n",
       "1  [0.8742502506992708, 0.8727742477261566, 0.872...            SVDpp_results  \n",
       "2  [0.918134048565931, 0.9164667718792527, 0.9179...         SlopeOne_results  \n",
       "3  [1.436259294718045, 1.4329194596112123, 1.4341...  NormalPredictor_results  \n",
       "4  [0.9533007999188796, 0.9570780889496165, 0.950...              nmf_results  \n",
       "5  [0.887415879351807, 0.8853590716499062, 0.8844...     BaselineOnly_results  "
      ]
     },
     "execution_count": 17,
     "metadata": {},
     "output_type": "execute_result"
    }
   ],
   "source": [
    "sum_df"
   ]
  },
  {
   "cell_type": "code",
   "execution_count": 18,
   "id": "418c3535",
   "metadata": {},
   "outputs": [
    {
     "data": {
      "image/png": "[encoded data removed]",
      "text/plain": [
       "<Figure size 864x504 with 1 Axes>"
      ]
     },
     "metadata": {
      "needs_background": "light"
     },
     "output_type": "display_data"
    }
   ],
   "source": [
    "plt.figure(figsize= (12, 7))\n",
    "plt.plot(sum_df['test_mae'][0])\n",
    "plt.plot(sum_df['test_mae'][1])\n",
    "plt.plot(sum_df['test_mae'][2])\n",
    "plt.plot(sum_df['test_mae'][3])\n",
    "plt.plot(sum_df['test_mae'][4])\n",
    "plt.plot(sum_df['test_mae'][5])\n",
    "plt.title('Baseline CV MAE')\n",
    "plt.xlabel('CV Folds')\n",
    "plt.ylabel('M A E')\n",
    "plt.legend(['SVD', 'SVDpp', 'SlopeOne', 'NormalPredictor', 'NMF', 'BaselineOnly'], loc='best')\n",
    "plt.show()"
   ]
  },
  {
   "cell_type": "code",
   "execution_count": 19,
   "id": "573930b1",
   "metadata": {},
   "outputs": [
    {
     "data": {
      "image/png": "[encoded data removed]",
      "text/plain": [
       "<Figure size 864x504 with 1 Axes>"
      ]
     },
     "metadata": {
      "needs_background": "light"
     },
     "output_type": "display_data"
    }
   ],
   "source": [
    "plt.figure(figsize= (12, 7))\n",
    "plt.plot(sum_df['test_rmse'][0])\n",
    "plt.plot(sum_df['test_rmse'][1])\n",
    "plt.plot(sum_df['test_rmse'][2])\n",
    "plt.plot(sum_df['test_rmse'][3])\n",
    "plt.plot(sum_df['test_rmse'][4])\n",
    "plt.plot(sum_df['test_rmse'][5])\n",
    "plt.title('Baseline CV RMSE')\n",
    "plt.xlabel('CV Folds')\n",
    "plt.ylabel('R M S E')\n",
    "\n",
    "plt.legend(['SVD', 'SVDpp', 'SlopeOne', 'NormalPredictor', 'NMF', 'BaselineOnly'], loc='best')\n",
    "plt.show()"
   ]
  },
  {
   "cell_type": "code",
   "execution_count": null,
   "id": "998b1e44",
   "metadata": {},
   "outputs": [],
   "source": [
    "svd_best = SVD(n_epochs = 50, n_factors = 75, reg_all = 0.2)\n",
    "svd_best.fit(trainset)"
   ]
  },
  {
   "cell_type": "code",
   "execution_count": null,
   "id": "d7d0a678",
   "metadata": {},
   "outputs": [],
   "source": [
    "test_mae = surprise.accuracy.mae(svd_best.test(testset))\n",
    "test_mae"
   ]
  },
  {
   "cell_type": "code",
   "execution_count": null,
   "id": "cdbba8ac",
   "metadata": {},
   "outputs": [],
   "source": [
    "predictions  = svd_best.test(testset)"
   ]
  },
  {
   "cell_type": "code",
   "execution_count": null,
   "id": "d3a80c44",
   "metadata": {},
   "outputs": [],
   "source": [
    "test_list = []\n",
    "for i in testset:\n",
    "  test_list.append(i[2])\n",
    "prediction_list = []\n",
    "for i in predictions:\n",
    "  prediction_list.append(i[3])\n",
    "correlation = pearsonr(prediction_list, test_list)\n",
    "correlation"
   ]
  },
  {
   "cell_type": "code",
   "execution_count": 20,
   "id": "8408da6b",
   "metadata": {},
   "outputs": [],
   "source": [
    "import lzma\n",
    "with lzma.open(\"rec_lmza.xz\", \"wb\") as f:\n",
    "    pickle.dump(svd_best, f)"
   ]
  }
 ],
 "metadata": {
  "kernelspec": {
   "display_name": "broke-the-other",
   "language": "python",
   "name": "broke-the-other"
  },
  "language_info": {
   "codemirror_mode": {
    "name": "ipython",
    "version": 3
   },
   "file_extension": ".py",
   "mimetype": "text/x-python",
   "name": "python",
   "nbconvert_exporter": "python",
   "pygments_lexer": "ipython3",
   "version": "3.10.4"
  }
 },
 "nbformat": 4,
 "nbformat_minor": 5
}
