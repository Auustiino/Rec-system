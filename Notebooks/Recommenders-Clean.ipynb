{
 "cells": [
  {
   "cell_type": "markdown",
   "id": "6215d58a",
   "metadata": {},
   "source": [
    "# Recommenders"
   ]
  },
  {
   "cell_type": "code",
   "execution_count": 1,
   "id": "383f2f18",
   "metadata": {},
   "outputs": [],
   "source": [
    "import difflib\n",
    "import random\n",
    "import pandas as pd\n",
    "import seaborn as sns\n",
    "import numpy as np\n",
    "import matplotlib.pyplot as plt\n",
    "from surprise import Reader, Dataset\n",
    "from surprise.prediction_algorithms import SVD, KNNWithZScore\n",
    "from surprise.model_selection import train_test_split\n",
    "from collections import defaultdict\n",
    "import warnings\n",
    "warnings.simplefilter(action='ignore', category=FutureWarning)"
   ]
  },
  {
   "cell_type": "markdown",
   "id": "a96cae51",
   "metadata": {},
   "source": [
    "### Importing and Splitting data"
   ]
  },
  {
   "cell_type": "code",
   "execution_count": 7,
   "id": "a026d18e",
   "metadata": {},
   "outputs": [],
   "source": [
    "full = pd.read_csv('../Data/filtered-cleaned-git.gz', compression = 'gzip')\n",
    "full = full.drop(columns = 'Unnamed: 0')\n",
    "full['title'] = full.title.str.extract('([a-zA-Z\\s]+)') \n",
    "min_cols = full[[ 'userId', 'movieId', 'rating']]"
   ]
  },
  {
   "cell_type": "code",
   "execution_count": 8,
   "id": "c113bf3a",
   "metadata": {},
   "outputs": [],
   "source": [
    "# min_cols = min_cols.sample(100000)\n",
    "smaller = min_cols.sample(50000)"
   ]
  },
  {
   "cell_type": "code",
   "execution_count": 9,
   "id": "92631024",
   "metadata": {},
   "outputs": [],
   "source": [
    "reader = Reader()\n",
    "data = Dataset.load_from_df(min_cols, reader)\n",
    "datasmall = Dataset.load_from_df(smaller, reader)\n",
    "kdata = datasmall.build_full_trainset()\n",
    "trainset, testset = train_test_split(data, test_size = 0.10)"
   ]
  },
  {
   "cell_type": "code",
   "execution_count": 10,
   "id": "2414f314",
   "metadata": {},
   "outputs": [
    {
     "name": "stdout",
     "output_type": "stream",
     "text": [
      "Unique users:  118291 \n",
      "\n",
      "Unique Movies:  6044\n"
     ]
    }
   ],
   "source": [
    "trainset = data.build_full_trainset()\n",
    "print('Unique users: ', trainset.n_users, '\\n')\n",
    "print('Unique Movies: ', trainset.n_items)"
   ]
  },
  {
   "cell_type": "code",
   "execution_count": 11,
   "id": "36ec95d2",
   "metadata": {},
   "outputs": [],
   "source": [
    "# Recommendations Based on Movie Title input"
   ]
  },
  {
   "cell_type": "code",
   "execution_count": 12,
   "id": "ea6e45e3",
   "metadata": {},
   "outputs": [
    {
     "name": "stdout",
     "output_type": "stream",
     "text": [
      "Computing the pearson similarity matrix...\n",
      "Done computing similarity matrix.\n"
     ]
    },
    {
     "data": {
      "text/plain": [
       "<surprise.prediction_algorithms.knns.KNNWithZScore at 0x17ccfc670>"
      ]
     },
     "execution_count": 12,
     "metadata": {},
     "output_type": "execute_result"
    }
   ],
   "source": [
    "knn_zscore = KNNWithZScore(sim_options={'name':'pearson', 'user_based':False})\n",
    "knn_zscore.fit(trainset)"
   ]
  },
  {
   "cell_type": "code",
   "execution_count": 25,
   "id": "b667ae89",
   "metadata": {},
   "outputs": [],
   "source": [
    "def out_neighbors(m_id):       \n",
    "    tsr_inner_id = knn_zscore.trainset.to_inner_iid(m_id)\n",
    "    tsr_neighbors = knn_zscore.get_neighbors(tsr_inner_id, k=5)\n",
    "    neighbors = full[full.movieId.isin([knn_zscore.trainset.to_raw_iid(inner_id)\n",
    "                       for inner_id in tsr_neighbors])]\n",
    "    print(list(neighbors.title.unique()))\n",
    "\n",
    "def neighborer(df):\n",
    "    movie_title = input(\"Enter Movie Title... Spelled correctly \" )\n",
    "    searchable = df.copy()\n",
    "    searchable['search'] = searchable['title']\n",
    "    searchable['search'] = searchable['search'].astype('string')\n",
    "    searchable['search'] = searchable['search'].str.lower()\n",
    "    searchable['search'] = searchable['search'].str.replace(' ', '')\n",
    "    movie_title = movie_title.lower()\n",
    "    movie_title = movie_title.replace(' ', '')\n",
    "    for i, title in searchable.search.items():\n",
    "        if movie_title == title:\n",
    "            m_id = searchable.iloc[i]['movieId']\n",
    "            name = full.loc[full['movieId'] == m_id, 'title'].iloc[0]\n",
    "            out_neighbors(m_id)\n",
    "            return m_id, name"
   ]
  },
  {
   "cell_type": "code",
   "execution_count": 67,
   "id": "fe50d0fc",
   "metadata": {},
   "outputs": [
    {
     "name": "stdout",
     "output_type": "stream",
     "text": [
      "Sample Movies:  ['Bruce Almighty ', 'Eternal Sunshine of the Spotless Mind ', 'Punisher', 'Jumanji', 'Zodiac ']\n"
     ]
    }
   ],
   "source": [
    "print('Sample Movies: ' , list(full.title.sample(5)))"
   ]
  },
  {
   "cell_type": "markdown",
   "id": "b455ca96",
   "metadata": {},
   "source": [
    "# Enter Title Here ----------------------------------------"
   ]
  },
  {
   "cell_type": "code",
   "execution_count": 69,
   "id": "1b1cece1",
   "metadata": {},
   "outputs": [
    {
     "name": "stdout",
     "output_type": "stream",
     "text": [
      "Enter Movie Title... Spelled correctly punisher\n",
      "['Reconstruction ', 'From Justin to Kelly ', 'Thanks for Sharing ', 'Together ', 'Darwin']\n"
     ]
    },
    {
     "data": {
      "text/plain": [
       "(64231, 'Punisher')"
      ]
     },
     "execution_count": 69,
     "metadata": {},
     "output_type": "execute_result"
    }
   ],
   "source": [
    "neighborer(full)"
   ]
  },
  {
   "cell_type": "markdown",
   "id": "ffaf2823",
   "metadata": {},
   "source": [
    "### Recommendations From Rating Input"
   ]
  },
  {
   "cell_type": "code",
   "execution_count": 20,
   "id": "2d4dc66a",
   "metadata": {},
   "outputs": [],
   "source": [
    "def movie_rater(movie_df,num, genre=None):\n",
    "    userID = 1000\n",
    "    rating_list = []\n",
    "    while num > 0:\n",
    "        if genre:\n",
    "            movie = movie_df[movie_df['genres'].str.contains(genre)].sample(1)\n",
    "        else:\n",
    "            movie = movie_df.sample(1)\n",
    "        print(movie.title)\n",
    "        rating = input('How do you rate this movie on a scale of 1-5, press n if you have not seen :\\n')\n",
    "        if rating == 'n':\n",
    "            continue\n",
    "        else:\n",
    "            rating_one_movie = {'userId':userID,'movieId':movie['movieId'].values[0],'rating':rating}\n",
    "            rating_list.append(rating_one_movie) \n",
    "            num -= 1\n",
    "    return rating_list "
   ]
  },
  {
   "cell_type": "markdown",
   "id": "2b1aaebd",
   "metadata": {},
   "source": [
    "# Rate Movies Here -------------------------------------\n",
    "## Run Next 2 Cells "
   ]
  },
  {
   "cell_type": "code",
   "execution_count": 57,
   "id": "c3fdaf3c",
   "metadata": {},
   "outputs": [
    {
     "name": "stdout",
     "output_type": "stream",
     "text": [
      "379903    Spy \n",
      "Name: title, dtype: object\n",
      "How do you rate this movie on a scale of 1-5, press n if you have not seen :\n",
      "n\n",
      "3119596    Friday Night Lights \n",
      "Name: title, dtype: object\n",
      "How do you rate this movie on a scale of 1-5, press n if you have not seen :\n",
      "5\n",
      "3969182    Hush \n",
      "Name: title, dtype: object\n",
      "How do you rate this movie on a scale of 1-5, press n if you have not seen :\n",
      "n\n",
      "559170    Little Nicky \n",
      "Name: title, dtype: object\n",
      "How do you rate this movie on a scale of 1-5, press n if you have not seen :\n",
      "3\n",
      "405455    Paranormal Activity \n",
      "Name: title, dtype: object\n",
      "How do you rate this movie on a scale of 1-5, press n if you have not seen :\n",
      "2\n",
      "4639805    Spirited Away \n",
      "Name: title, dtype: object\n",
      "How do you rate this movie on a scale of 1-5, press n if you have not seen :\n",
      "4\n",
      "1013792    Fury \n",
      "Name: title, dtype: object\n",
      "How do you rate this movie on a scale of 1-5, press n if you have not seen :\n",
      "5\n"
     ]
    }
   ],
   "source": [
    "user_rating = movie_rater(full, 5)"
   ]
  },
  {
   "cell_type": "code",
   "execution_count": 58,
   "id": "35cd387e",
   "metadata": {},
   "outputs": [
    {
     "name": "stdout",
     "output_type": "stream",
     "text": [
      "Please Wait... looking for awesome movies \n",
      " \n",
      "\n",
      "Movie Recs: \n",
      "\n",
      "Recommendation #  1 :  Planet Earth II  \n",
      "\n",
      "Recommendation #  2 :  Planet Earth  \n",
      "\n",
      "Recommendation #  3 :  Over the Garden Wall  \n",
      "\n",
      "Recommendation #  4 :  Century of the Self \n",
      "\n",
      "Recommendation #  5 :  Bill Burr \n",
      "\n"
     ]
    }
   ],
   "source": [
    "print(\"Please Wait... looking for awesome movies \\n \\n\")\n",
    "\n",
    "new_ratings_df = min_cols.append(user_rating,ignore_index=True)\n",
    "new_data = Dataset.load_from_df(new_ratings_df,reader)\n",
    "\n",
    "svd_ = SVD(n_factors= 50, reg_all=0.05)\n",
    "svd_.fit(new_data.build_full_trainset())\n",
    "\n",
    "\n",
    "list_of_movies = []\n",
    "for m_id in min_cols['movieId'].unique():\n",
    "    list_of_movies.append( (m_id,svd_.predict(1000,m_id)[3]))\n",
    "    \n",
    "    \n",
    "    \n",
    "ranked_movies = sorted(list_of_movies, key=lambda x:x[1], reverse=True)\n",
    "\n",
    "\n",
    "\n",
    "def recommended_movies(user_ratings,movie_title_df,n):\n",
    "        for idx, rec in enumerate(user_ratings):\n",
    "            title = movie_title_df.loc[movie_title_df['movieId'] == int(rec[0])]['title'].iloc[0]\n",
    "            print('Recommendation # ', idx+1, ': ', title, '\\n')\n",
    "            n-= 1\n",
    "            if n == 0:\n",
    "                break\n",
    "                \n",
    "print('Movie Recs: \\n')\n",
    "recommended_movies(ranked_movies,full,5)"
   ]
  },
  {
   "cell_type": "code",
   "execution_count": null,
   "id": "6de2808b",
   "metadata": {},
   "outputs": [],
   "source": []
  }
 ],
 "metadata": {
  "kernelspec": {
   "display_name": "broke-the-other",
   "language": "python",
   "name": "broke-the-other"
  },
  "language_info": {
   "codemirror_mode": {
    "name": "ipython",
    "version": 3
   },
   "file_extension": ".py",
   "mimetype": "text/x-python",
   "name": "python",
   "nbconvert_exporter": "python",
   "pygments_lexer": "ipython3",
   "version": "3.10.4"
  }
 },
 "nbformat": 4,
 "nbformat_minor": 5
}
