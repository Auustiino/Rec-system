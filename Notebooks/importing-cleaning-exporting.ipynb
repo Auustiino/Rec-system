{
 "cells": [
  {
   "cell_type": "markdown",
   "id": "2d2a5014",
   "metadata": {},
   "source": [
    "# Imporing - Cleaning - Exporting"
   ]
  },
  {
   "cell_type": "code",
   "execution_count": 31,
   "id": "aa7e846d",
   "metadata": {},
   "outputs": [],
   "source": [
    "import pandas as pd\n",
    "import seaborn as sns\n",
    "import matplotlib.pyplot as plt"
   ]
  },
  {
   "cell_type": "code",
   "execution_count": 32,
   "id": "bff3d7ef",
   "metadata": {},
   "outputs": [],
   "source": [
    "#Importing Movie Titles, Ratings, Users\n",
    "movies_df = pd.read_csv('../Data/movies.csv')\n",
    "ratings_df = pd.read_csv('../Data/ratings-full.csv')"
   ]
  },
  {
   "cell_type": "code",
   "execution_count": 33,
   "id": "5b4cf34b",
   "metadata": {},
   "outputs": [],
   "source": [
    "#Merging Movies and Ratings\n",
    "full = movies_df.merge(ratings_df, how = 'right', on = 'movieId')"
   ]
  },
  {
   "cell_type": "code",
   "execution_count": 35,
   "id": "e6c9dc00",
   "metadata": {},
   "outputs": [],
   "source": [
    "# Creating a Year column from movie titles and setting year as an integer \n",
    "full['year'] = full.title.str.extract('(\\d+)')"
   ]
  },
  {
   "cell_type": "code",
   "execution_count": 36,
   "id": "edaa5d78",
   "metadata": {},
   "outputs": [],
   "source": [
    "# Dropping Several null values created from extraction process \n",
    "# setting year values as integers\n",
    "full.dropna(inplace = True)\n",
    "full.year = full.year.astype(int)"
   ]
  },
  {
   "cell_type": "code",
   "execution_count": 37,
   "id": "1607baf4",
   "metadata": {},
   "outputs": [],
   "source": [
    "# Filtering for years between 2000 and 2018 \n",
    "full = full.loc[full.year >= 2000]\n",
    "full = full.loc[full.year <= 2018]"
   ]
  },
  {
   "cell_type": "code",
   "execution_count": 38,
   "id": "fcfa6570",
   "metadata": {},
   "outputs": [],
   "source": [
    "# Getting rating frequency per movie\n",
    "freq = full.groupby(full['movieId']).count()\n",
    "\n",
    "# Creating a series of frequency counts \n",
    "frequency = pd.Series(freq.year, name = 'frequency')\n",
    "\n",
    "# merging frequency series into data\n",
    "freq_df = full.merge(frequency, left_on = 'movieId', right_index = True)"
   ]
  },
  {
   "cell_type": "code",
   "execution_count": 39,
   "id": "20368905",
   "metadata": {},
   "outputs": [],
   "source": [
    "# Filtering Movies with less than 10 reviews\n",
    "filtered = freq_df.loc[freq_df['frequency'] >= 50]"
   ]
  },
  {
   "cell_type": "markdown",
   "id": "670dff2d",
   "metadata": {},
   "source": [
    "## Year Distribution"
   ]
  },
  {
   "cell_type": "code",
   "execution_count": 40,
   "id": "25f65a28",
   "metadata": {},
   "outputs": [
    {
     "data": {
      "image/png": "[encoded data removed]",
      "text/plain": [
       "<Figure size 864x360 with 1 Axes>"
      ]
     },
     "metadata": {
      "needs_background": "light"
     },
     "output_type": "display_data"
    }
   ],
   "source": [
    "years = filtered.year\n",
    "plt.figure(figsize = (12, 5))\n",
    "g = sns.countplot(x = years, palette = 'rocket_r'); "
   ]
  },
  {
   "cell_type": "markdown",
   "id": "62022df4",
   "metadata": {},
   "source": [
    "## Rating Distribution"
   ]
  },
  {
   "cell_type": "code",
   "execution_count": 41,
   "id": "137a48a6",
   "metadata": {},
   "outputs": [
    {
     "data": {
      "image/png": "[encoded data removed]",
      "text/plain": [
       "<Figure size 864x360 with 1 Axes>"
      ]
     },
     "metadata": {
      "needs_background": "light"
     },
     "output_type": "display_data"
    }
   ],
   "source": [
    "ratings = filtered.rating\n",
    "plt.figure(figsize = (12, 5))\n",
    "r = sns.countplot(x = ratings, palette = 'rocket_r')"
   ]
  },
  {
   "cell_type": "code",
   "execution_count": 43,
   "id": "5bc7805e",
   "metadata": {},
   "outputs": [
    {
     "name": "stdout",
     "output_type": "stream",
     "text": [
      "<class 'pandas.core.frame.DataFrame'>\n",
      "Int64Index: 8632942 entries, 23 to 24661912\n",
      "Data columns (total 4 columns):\n",
      " #   Column   Dtype  \n",
      "---  ------   -----  \n",
      " 0   movieId  int64  \n",
      " 1   title    object \n",
      " 2   userId   int64  \n",
      " 3   rating   float64\n",
      "dtypes: float64(1), int64(2), object(1)\n",
      "memory usage: 329.3+ MB\n"
     ]
    }
   ],
   "source": [
    "mini = filtered[['movieId', 'title', 'userId', 'rating']]\n",
    "mini.info()"
   ]
  },
  {
   "cell_type": "code",
   "execution_count": 50,
   "id": "5b77dcc3",
   "metadata": {},
   "outputs": [],
   "source": [
    "mini.to_csv('../Data/filtered-cleaned')"
   ]
  },
  {
   "cell_type": "code",
   "execution_count": null,
   "id": "e7e34d9e",
   "metadata": {},
   "outputs": [],
   "source": []
  }
 ],
 "metadata": {
  "kernelspec": {
   "display_name": "broke-the-other",
   "language": "python",
   "name": "broke-the-other"
  },
  "language_info": {
   "codemirror_mode": {
    "name": "ipython",
    "version": 3
   },
   "file_extension": ".py",
   "mimetype": "text/x-python",
   "name": "python",
   "nbconvert_exporter": "python",
   "pygments_lexer": "ipython3",
   "version": "3.10.4"
  }
 },
 "nbformat": 4,
 "nbformat_minor": 5
}
