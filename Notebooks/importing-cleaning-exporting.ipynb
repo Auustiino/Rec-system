{
 "cells": [
  {
   "cell_type": "markdown",
   "id": "2d2a5014",
   "metadata": {},
   "source": [
    "# Imporing - Cleaning - Exporting"
   ]
  },
  {
   "cell_type": "code",
   "execution_count": null,
   "id": "aa7e846d",
   "metadata": {},
   "outputs": [],
   "source": [
    "import pandas as pd\n",
    "import seaborn as sns\n",
    "import matplotlib.pyplot as plt"
   ]
  },
  {
   "cell_type": "code",
   "execution_count": null,
   "id": "bff3d7ef",
   "metadata": {},
   "outputs": [],
   "source": [
    "#Importing Movie Titles, Ratings, Users\n",
    "movies_df = pd.read_csv('../Data/movies.csv')\n",
    "ratings_df = pd.read_csv('../Data/ratings.csv')"
   ]
  },
  {
   "cell_type": "code",
   "execution_count": null,
   "id": "5b4cf34b",
   "metadata": {},
   "outputs": [],
   "source": [
    "#Merging Movies and Ratings\n",
    "full = movies_df.merge(ratings_df, how = 'right', on = 'movieId')"
   ]
  },
  {
   "cell_type": "code",
   "execution_count": null,
   "id": "e6c9dc00",
   "metadata": {},
   "outputs": [],
   "source": [
    "# Creating a Year column from movie titles and setting year as an integer \n",
    "full['year'] = full.title.str.extract('(\\d+)')"
   ]
  },
  {
   "cell_type": "code",
   "execution_count": null,
   "id": "edaa5d78",
   "metadata": {},
   "outputs": [],
   "source": [
    "# Dropping Several null values created from extraction process \n",
    "# setting year values as integers\n",
    "full.dropna(inplace = True)\n",
    "full.year = full.year.astype(int)"
   ]
  },
  {
   "cell_type": "code",
   "execution_count": null,
   "id": "1607baf4",
   "metadata": {},
   "outputs": [],
   "source": [
    "# Filtering for years between 2000 and 2018 \n",
    "full = full.loc[full.year >= 2000]\n",
    "full = full.loc[full.year <= 2018]"
   ]
  },
  {
   "cell_type": "code",
   "execution_count": null,
   "id": "fcfa6570",
   "metadata": {},
   "outputs": [],
   "source": [
    "# Getting rating frequency per movie\n",
    "freq = full.groupby(full['movieId']).count()\n",
    "\n",
    "# Creating a series of frequency counts \n",
    "frequency = pd.Series(freq.year, name = 'frequency')\n",
    "\n",
    "# merging frequency series into data\n",
    "freq_df = full.merge(frequency, left_on = 'movieId', right_index = True)"
   ]
  },
  {
   "cell_type": "code",
   "execution_count": null,
   "id": "20368905",
   "metadata": {},
   "outputs": [],
   "source": [
    "# Filtering Movies with less than 10 reviews\n",
    "filtered = freq_df.loc[freq_df['frequency'] >= 50]"
   ]
  },
  {
   "cell_type": "markdown",
   "id": "670dff2d",
   "metadata": {},
   "source": [
    "## Year Distribution"
   ]
  },
  {
   "cell_type": "code",
   "execution_count": null,
   "id": "25f65a28",
   "metadata": {},
   "outputs": [],
   "source": [
    "years = full.year\n",
    "plt.figure(figsize = (12, 5))\n",
    "g = sns.countplot(x = years, palette = 'rocket_r'); "
   ]
  },
  {
   "cell_type": "markdown",
   "id": "62022df4",
   "metadata": {},
   "source": [
    "## Rating Distribution"
   ]
  },
  {
   "cell_type": "code",
   "execution_count": null,
   "id": "137a48a6",
   "metadata": {},
   "outputs": [],
   "source": [
    "ratings = full.rating\n",
    "plt.figure(figsize = (12, 5))\n",
    "r = sns.countplot(x = ratings, palette = 'rocket_r')"
   ]
  },
  {
   "cell_type": "code",
   "execution_count": null,
   "id": "b5a3bf4c",
   "metadata": {},
   "outputs": [],
   "source": [
    "sample = filtered.sample(2000000)"
   ]
  },
  {
   "cell_type": "code",
   "execution_count": null,
   "id": "5b77dcc3",
   "metadata": {},
   "outputs": [],
   "source": [
    "sample.to_csv('../Data/filtered-cleaned')"
   ]
  },
  {
   "cell_type": "code",
   "execution_count": null,
   "id": "87c0d3dc",
   "metadata": {},
   "outputs": [],
   "source": []
  }
 ],
 "metadata": {
  "kernelspec": {
   "display_name": "Python (learn-env)",
   "language": "python",
   "name": "learn-env"
  },
  "language_info": {
   "codemirror_mode": {
    "name": "ipython",
    "version": 3
   },
   "file_extension": ".py",
   "mimetype": "text/x-python",
   "name": "python",
   "nbconvert_exporter": "python",
   "pygments_lexer": "ipython3",
   "version": "3.8.13"
  }
 },
 "nbformat": 4,
 "nbformat_minor": 5
}
